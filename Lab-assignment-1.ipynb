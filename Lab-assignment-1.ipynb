{
 "cells": [
  {
   "cell_type": "markdown",
   "metadata": {},
   "source": [
    "## Que 1"
   ]
  },
  {
   "cell_type": "markdown",
   "metadata": {},
   "source": [
    "#### (a) Reverse the NumPy array: arr = np.array([1, 2, 3, 6, 4, 5]) "
   ]
  },
  {
   "cell_type": "code",
   "execution_count": 1,
   "metadata": {},
   "outputs": [],
   "source": [
    "import numpy as np"
   ]
  },
  {
   "cell_type": "code",
   "execution_count": 8,
   "metadata": {},
   "outputs": [
    {
     "data": {
      "text/plain": [
       "array([1, 2, 3, 6, 4, 5])"
      ]
     },
     "execution_count": 8,
     "metadata": {},
     "output_type": "execute_result"
    }
   ],
   "source": [
    "arr = np.array([1,2,3,6,4,5])\n",
    "arr"
   ]
  },
  {
   "cell_type": "code",
   "execution_count": 9,
   "metadata": {},
   "outputs": [
    {
     "data": {
      "text/plain": [
       "array([5, 4, 6, 3, 2, 1])"
      ]
     },
     "execution_count": 9,
     "metadata": {},
     "output_type": "execute_result"
    }
   ],
   "source": [
    "reverse_arr = arr[::-1]\n",
    "reverse_arr"
   ]
  },
  {
   "cell_type": "markdown",
   "metadata": {},
   "source": [
    "#### (b) Flatten the NumPy arr: array1 = np.array([[1, 2, 3], [2, 4, 5], [1, 2, 3]]) using any two NumPy in-built methods "
   ]
  },
  {
   "cell_type": "code",
   "execution_count": 10,
   "metadata": {},
   "outputs": [
    {
     "data": {
      "text/plain": [
       "array([1, 2, 3, 2, 4, 5, 1, 2, 3])"
      ]
     },
     "execution_count": 10,
     "metadata": {},
     "output_type": "execute_result"
    }
   ],
   "source": [
    "arr = np.array([[1,2,3],[2,4,5],[1,2,3]])\n",
    "arr.flatten()"
   ]
  },
  {
   "cell_type": "markdown",
   "metadata": {},
   "source": [
    "#### (c) Compare the following numpy arrays: arr1 = np.array([[1, 2], [3, 4]]) arr2 = np.array([[1, 2], [3, 4]])\n"
   ]
  },
  {
   "cell_type": "code",
   "execution_count": 11,
   "metadata": {},
   "outputs": [],
   "source": [
    "arr1 = np.array([[1,2],[3,4]])\n",
    "arr2 = np.array([[1,2],[3,4]])"
   ]
  },
  {
   "cell_type": "code",
   "execution_count": 12,
   "metadata": {},
   "outputs": [
    {
     "data": {
      "text/plain": [
       "array([[ True,  True],\n",
       "       [ True,  True]])"
      ]
     },
     "execution_count": 12,
     "metadata": {},
     "output_type": "execute_result"
    }
   ],
   "source": [
    "arr1 == arr2"
   ]
  },
  {
   "cell_type": "markdown",
   "metadata": {},
   "source": [
    "#### (d) Find the most frequent value and their indice(s) in the following arrays: (i). x = np.array([1,2,3,4,5,1,2,1,1,1]) (ii). y = np.array([1, 1, 1, 2, 3, 4, 2, 4, 3, 3, ]) \n"
   ]
  },
  {
   "cell_type": "code",
   "execution_count": 13,
   "metadata": {},
   "outputs": [],
   "source": [
    "x = np.array([1,2,3,4,5,1,2,1,1,1])"
   ]
  },
  {
   "cell_type": "code",
   "execution_count": 25,
   "metadata": {},
   "outputs": [
    {
     "name": "stdout",
     "output_type": "stream",
     "text": [
      "Most frequent value:  1\n",
      "Indices of most frequent value:  [0 5 7 8 9]\n"
     ]
    }
   ],
   "source": [
    "max_x = np.bincount(x).argmax()\n",
    "print(\"Most frequent value: \", max_x)\n",
    "print(\"Indices of most frequent value: \", np.where(x == max_x)[0])"
   ]
  },
  {
   "cell_type": "code",
   "execution_count": 17,
   "metadata": {},
   "outputs": [],
   "source": [
    "y = np.array([1,1,1,2,3,4,2,4,3,3])"
   ]
  },
  {
   "cell_type": "code",
   "execution_count": 24,
   "metadata": {},
   "outputs": [
    {
     "name": "stdout",
     "output_type": "stream",
     "text": [
      "Most frequent value:  1\n",
      "Indices of most frequent value:  [0 1 2]\n",
      "Most frequent value:  3\n",
      "Indices of most frequent value:  [4 8 9]\n"
     ]
    }
   ],
   "source": [
    "new_y = np.bincount(y)\n",
    "max_y = max(new_y)\n",
    "\n",
    "for i in range(len(new_y)):\n",
    "    if new_y[i] == max_y:\n",
    "        print(\"Most frequent value: \", i)\n",
    "        print(\"Indices of most frequent value: \", (np.where(y == i)[0]))"
   ]
  },
  {
   "cell_type": "markdown",
   "metadata": {},
   "source": [
    "#### (e) For the array gfg = np.matrix('[4, 1, 9; 12, 3, 1; 4, 5, 6]'), find (i). Sum of all elements (ii). Sum of all elements row-wise (iii). Sum of all elements column-wise"
   ]
  },
  {
   "cell_type": "code",
   "execution_count": 26,
   "metadata": {},
   "outputs": [],
   "source": [
    "gfg = np.matrix('[4,1,9;12,3,1;4,5,6]')"
   ]
  },
  {
   "cell_type": "code",
   "execution_count": 34,
   "metadata": {},
   "outputs": [
    {
     "data": {
      "text/plain": [
       "np.int64(45)"
      ]
     },
     "execution_count": 34,
     "metadata": {},
     "output_type": "execute_result"
    }
   ],
   "source": [
    "# Total sum\n",
    "gfg.sum()"
   ]
  },
  {
   "cell_type": "code",
   "execution_count": 32,
   "metadata": {},
   "outputs": [
    {
     "data": {
      "text/plain": [
       "matrix([[14],\n",
       "        [16],\n",
       "        [15]])"
      ]
     },
     "execution_count": 32,
     "metadata": {},
     "output_type": "execute_result"
    }
   ],
   "source": [
    "# Row-wise sum\n",
    "gfg.sum(axis=1)"
   ]
  },
  {
   "cell_type": "code",
   "execution_count": 33,
   "metadata": {},
   "outputs": [
    {
     "data": {
      "text/plain": [
       "matrix([[20,  9, 16]])"
      ]
     },
     "execution_count": 33,
     "metadata": {},
     "output_type": "execute_result"
    }
   ],
   "source": [
    "# Column-wise sum\n",
    "gfg.sum(axis=0)"
   ]
  },
  {
   "cell_type": "markdown",
   "metadata": {},
   "source": [
    "#### (f) For the matrix: n_array = np.array([[55, 25, 15],[30, 44, 2],[11, 45, 77]]), find (i). Sum of diagonal elements (ii). Eigen values of matrix (iii). Eigen vectors of matrix (iv). Inverse of matrix (v). Determinant of matrix "
   ]
  },
  {
   "cell_type": "code",
   "execution_count": 35,
   "metadata": {},
   "outputs": [],
   "source": [
    "n_array = np.array([[55,25,15],[30,44,2],[11,45,77]])"
   ]
  },
  {
   "cell_type": "code",
   "execution_count": 37,
   "metadata": {},
   "outputs": [
    {
     "data": {
      "text/plain": [
       "np.int64(176)"
      ]
     },
     "execution_count": 37,
     "metadata": {},
     "output_type": "execute_result"
    }
   ],
   "source": [
    "# Sum of diagonal elements\n",
    "n_array.trace()"
   ]
  },
  {
   "cell_type": "code",
   "execution_count": 42,
   "metadata": {},
   "outputs": [
    {
     "name": "stdout",
     "output_type": "stream",
     "text": [
      "Eigen Value:  [98.16835147 28.097044   49.73460452]\n",
      "Eigen Vector:  [[ 0.4574917   0.34637121 -0.15017693]\n",
      " [ 0.28447814 -0.72784061 -0.4852124 ]\n",
      " [ 0.84248058  0.59184038  0.8614034 ]]\n"
     ]
    }
   ],
   "source": [
    "# Eigen Value and Eigen Vector of matrix\n",
    "eig_val, eig_vec = np.linalg.eig(n_array)\n",
    "print(\"Eigen Value: \", eig_val)\n",
    "print(\"Eigen Vector: \", eig_vec)"
   ]
  },
  {
   "cell_type": "code",
   "execution_count": 41,
   "metadata": {},
   "outputs": [
    {
     "data": {
      "text/plain": [
       "array([[ 0.02404141, -0.00911212, -0.00444671],\n",
       "       [-0.01667882,  0.02966905,  0.0024785 ],\n",
       "       [ 0.00631287, -0.01603732,  0.01217379]])"
      ]
     },
     "execution_count": 41,
     "metadata": {},
     "output_type": "execute_result"
    }
   ],
   "source": [
    "# Inverse of matrix\n",
    "np.linalg.inv(n_array)"
   ]
  },
  {
   "cell_type": "code",
   "execution_count": 43,
   "metadata": {},
   "outputs": [
    {
     "data": {
      "text/plain": [
       "np.float64(137180.0000000001)"
      ]
     },
     "execution_count": 43,
     "metadata": {},
     "output_type": "execute_result"
    }
   ],
   "source": [
    "# Determinant of matrix\n",
    "np.linalg.det(n_array)"
   ]
  },
  {
   "cell_type": "markdown",
   "metadata": {},
   "source": [
    "#### (g) Multiply the following matrices and also find covariance between matrices using NumPy: i. p = [[1, 2], [2, 3]] q = [[4, 5], [6, 7]] (ii). p = [[1, 2], [2, 3], [4, 5]] q = [[4, 5, 1], [6, 7, 2]]"
   ]
  },
  {
   "cell_type": "code",
   "execution_count": 45,
   "metadata": {},
   "outputs": [
    {
     "data": {
      "text/plain": [
       "array([[ 4, 10],\n",
       "       [12, 21]])"
      ]
     },
     "execution_count": 45,
     "metadata": {},
     "output_type": "execute_result"
    }
   ],
   "source": [
    "p = np.array([[1,2],[2,3]])\n",
    "q = np.array([[4,5],[6,7]])\n",
    "np.multiply(p,q)"
   ]
  },
  {
   "cell_type": "code",
   "execution_count": 46,
   "metadata": {},
   "outputs": [
    {
     "ename": "ValueError",
     "evalue": "operands could not be broadcast together with shapes (3,2) (2,3) ",
     "output_type": "error",
     "traceback": [
      "\u001b[1;31m---------------------------------------------------------------------------\u001b[0m",
      "\u001b[1;31mValueError\u001b[0m                                Traceback (most recent call last)",
      "Cell \u001b[1;32mIn[46], line 3\u001b[0m\n\u001b[0;32m      1\u001b[0m p \u001b[38;5;241m=\u001b[39m np\u001b[38;5;241m.\u001b[39marray([[\u001b[38;5;241m1\u001b[39m,\u001b[38;5;241m2\u001b[39m],[\u001b[38;5;241m2\u001b[39m,\u001b[38;5;241m3\u001b[39m],[\u001b[38;5;241m4\u001b[39m,\u001b[38;5;241m5\u001b[39m]])\n\u001b[0;32m      2\u001b[0m q \u001b[38;5;241m=\u001b[39m np\u001b[38;5;241m.\u001b[39marray([[\u001b[38;5;241m4\u001b[39m,\u001b[38;5;241m5\u001b[39m,\u001b[38;5;241m1\u001b[39m],[\u001b[38;5;241m6\u001b[39m,\u001b[38;5;241m7\u001b[39m,\u001b[38;5;241m2\u001b[39m]])\n\u001b[1;32m----> 3\u001b[0m \u001b[43mnp\u001b[49m\u001b[38;5;241;43m.\u001b[39;49m\u001b[43mmultiply\u001b[49m\u001b[43m(\u001b[49m\u001b[43mp\u001b[49m\u001b[43m,\u001b[49m\u001b[43mq\u001b[49m\u001b[43m)\u001b[49m\n",
      "\u001b[1;31mValueError\u001b[0m: operands could not be broadcast together with shapes (3,2) (2,3) "
     ]
    }
   ],
   "source": [
    "p = np.array([[1,2],[2,3],[4,5]])\n",
    "q = np.array([[4,5,1],[6,7,2]])\n",
    "np.multiply(p,q)"
   ]
  },
  {
   "cell_type": "markdown",
   "metadata": {},
   "source": [
    "#### (h) For the matrices: x = np.array([[2, 3, 4], [3, 2, 9]]); y = np.array([[1, 5, 0], [5, 10, 3]]), find inner, outer and cartesian product?\n"
   ]
  },
  {
   "cell_type": "code",
   "execution_count": 50,
   "metadata": {},
   "outputs": [
    {
     "name": "stdout",
     "output_type": "stream",
     "text": [
      "Inner Product:  [[17 52]\n",
      " [13 62]]\n",
      "Outer Product:  [[ 2 10  0 10 20  6]\n",
      " [ 3 15  0 15 30  9]\n",
      " [ 4 20  0 20 40 12]\n",
      " [ 3 15  0 15 30  9]\n",
      " [ 2 10  0 10 20  6]\n",
      " [ 9 45  0 45 90 27]]\n",
      "Cartesian Product:  [[ 2  1]\n",
      " [ 3  1]\n",
      " [ 4  1]\n",
      " [ 3  1]\n",
      " [ 2  1]\n",
      " [ 9  1]\n",
      " [ 2  5]\n",
      " [ 3  5]\n",
      " [ 4  5]\n",
      " [ 3  5]\n",
      " [ 2  5]\n",
      " [ 9  5]\n",
      " [ 2  0]\n",
      " [ 3  0]\n",
      " [ 4  0]\n",
      " [ 3  0]\n",
      " [ 2  0]\n",
      " [ 9  0]\n",
      " [ 2  5]\n",
      " [ 3  5]\n",
      " [ 4  5]\n",
      " [ 3  5]\n",
      " [ 2  5]\n",
      " [ 9  5]\n",
      " [ 2 10]\n",
      " [ 3 10]\n",
      " [ 4 10]\n",
      " [ 3 10]\n",
      " [ 2 10]\n",
      " [ 9 10]\n",
      " [ 2  3]\n",
      " [ 3  3]\n",
      " [ 4  3]\n",
      " [ 3  3]\n",
      " [ 2  3]\n",
      " [ 9  3]]\n"
     ]
    }
   ],
   "source": [
    "x = np.array([[2,3,4], [3,2,9]])\n",
    "y = np.array([[1,5,0],[5, 10, 3]])\n",
    "\n",
    "print(\"Inner Product: \", np.inner(x,y))\n",
    "print(\"Outer Product: \", np.outer(x,y))\n",
    "\n",
    "a,b = np.meshgrid(x,y)\n",
    "cart_prod = np.stack((a.flatten(), b.flatten()), axis=1)\n",
    "print(\"Cartesian Product: \", cart_prod)"
   ]
  },
  {
   "cell_type": "markdown",
   "metadata": {},
   "source": [
    "### Que 2"
   ]
  },
  {
   "cell_type": "markdown",
   "metadata": {},
   "source": [
    "#### (a) For the array: array = np.array([[1, -2, 3],[-4, 5, -6]]) (i). Find element-wise absolute value (ii). Find the 25th, 50th, and 75th percentile of flattened array, for each column, for each row. (iii). Mean, Median and Standard Deviation of flattened array, of each column, and each row"
   ]
  },
  {
   "cell_type": "code",
   "execution_count": 53,
   "metadata": {},
   "outputs": [],
   "source": [
    "array = np.array([[1,-2,3], [-4,5,-6]])"
   ]
  },
  {
   "cell_type": "code",
   "execution_count": 55,
   "metadata": {},
   "outputs": [
    {
     "data": {
      "text/plain": [
       "array([[1, 2, 3],\n",
       "       [4, 5, 6]])"
      ]
     },
     "execution_count": 55,
     "metadata": {},
     "output_type": "execute_result"
    }
   ],
   "source": [
    "# Absolute value\n",
    "np.abs(array)"
   ]
  },
  {
   "cell_type": "code",
   "execution_count": 59,
   "metadata": {},
   "outputs": [
    {
     "name": "stdout",
     "output_type": "stream",
     "text": [
      "25th percentile for row:  [-0.5 -5. ]\n",
      "25th percentile for column: [-2.75 -0.25 -3.75]\n",
      "50th percentile for row: [ 1. -4.]\n",
      "50th percentile for column: [-1.5  1.5 -1.5]\n",
      "75th percentile for row: [2.  0.5]\n",
      "75th percentile for column: [-0.25  3.25  0.75]\n"
     ]
    }
   ],
   "source": [
    "row_25 = np.percentile(array, 25, axis=1)\n",
    "col_25 = np.percentile(array, 25, axis=0)\n",
    "row_50 = np.percentile(array, 50, axis=1)\n",
    "col_50 = np.percentile(array, 50, axis=0)\n",
    "row_75 = np.percentile(array, 75, axis=1)\n",
    "col_75 = np.percentile(array, 75, axis=0)\n",
    "\n",
    "print(\"25th percentile for row: \", row_25)\n",
    "print(\"25th percentile for column:\", col_25)\n",
    "print(\"50th percentile for row:\", row_50)\n",
    "print(\"50th percentile for column:\", col_50)\n",
    "print(\"75th percentile for row:\", row_75)\n",
    "print(\"75th percentile for column:\", col_75)"
   ]
  },
  {
   "cell_type": "code",
   "execution_count": 61,
   "metadata": {},
   "outputs": [
    {
     "name": "stdout",
     "output_type": "stream",
     "text": [
      "Row Mean: [ 0.66666667 -1.66666667]\n",
      "Column Mean: [-1.5  1.5 -1.5]\n",
      "Row Median: [ 1. -4.]\n",
      "Column Median: [-1.5  1.5 -1.5]\n",
      "Row Standard Deviation: [2.05480467 4.78423336]\n",
      "Column Standard Deviation: [2.5 3.5 4.5]\n"
     ]
    }
   ],
   "source": [
    "row_mean = np.mean(array, axis=1)\n",
    "col_mean = np.mean(array, axis=0)\n",
    "row_median = np.median(array, axis=1)\n",
    "col_median = np.median(array, axis=0)\n",
    "row_std = np.std(array, axis=1)\n",
    "col_std = np.std(array, axis=0)\n",
    "\n",
    "print(f\"Row Mean: {row_mean}\")\n",
    "print(f\"Column Mean: {col_mean}\")\n",
    "print(f\"Row Median: {row_median}\")\n",
    "print(f\"Column Median: {col_median}\")\n",
    "print(f\"Row Standard Deviation: {row_std}\")\n",
    "print(f\"Column Standard Deviation: {col_std}\")"
   ]
  },
  {
   "cell_type": "markdown",
   "metadata": {},
   "source": [
    "#### (b) For the array: a = np.array([-1.8, -1.6, -0.5, 0.5,1.6, 1.8, 3.0]). Find floor, ceiling and truncated value, rounded values"
   ]
  },
  {
   "cell_type": "code",
   "execution_count": 62,
   "metadata": {},
   "outputs": [],
   "source": [
    "a = np.array([-1.8, -1.6, -0.5, 0.5, 1.6, 1.8, 3.0])"
   ]
  },
  {
   "cell_type": "code",
   "execution_count": 63,
   "metadata": {},
   "outputs": [
    {
     "name": "stdout",
     "output_type": "stream",
     "text": [
      "Floor: [-2. -2. -1.  0.  1.  1.  3.]\n",
      "Ceiling: [-1. -1. -0.  1.  2.  2.  3.]\n",
      "Truncate: [-1. -1. -0.  0.  1.  1.  3.]\n",
      "Rounded: [-2. -2. -0.  0.  2.  2.  3.]\n"
     ]
    }
   ],
   "source": [
    "print(f\"Floor: {np.floor(a)}\")\n",
    "print(f\"Ceiling: {np.ceil(a)}\")\n",
    "print(f\"Truncate: {np.trunc(a)}\")\n",
    "print(f\"Rounded: {np.round(a)}\")"
   ]
  },
  {
   "cell_type": "markdown",
   "metadata": {},
   "source": [
    "### Que 3"
   ]
  },
  {
   "cell_type": "markdown",
   "metadata": {},
   "source": [
    "#### (a) For the array: array = np.array([10, 52, 62, 16, 16, 54, 453]), find (i). Sorted array (ii). Indices of sorted array (iii). 4th smallest elements (iv). 5th largest elements"
   ]
  },
  {
   "cell_type": "code",
   "execution_count": 4,
   "metadata": {},
   "outputs": [],
   "source": [
    "array = np.array([10, 52, 62, 16, 16, 54, 453])"
   ]
  },
  {
   "cell_type": "code",
   "execution_count": 19,
   "metadata": {},
   "outputs": [
    {
     "data": {
      "text/plain": [
       "array([ 10,  16,  16,  52,  54,  62, 453])"
      ]
     },
     "execution_count": 19,
     "metadata": {},
     "output_type": "execute_result"
    }
   ],
   "source": [
    "# Sorted array\n",
    "sorted_arr = np.sort(array)\n",
    "sorted_arr"
   ]
  },
  {
   "cell_type": "code",
   "execution_count": 20,
   "metadata": {},
   "outputs": [
    {
     "data": {
      "text/plain": [
       "array([0, 1, 2, 3, 4, 5, 6])"
      ]
     },
     "execution_count": 20,
     "metadata": {},
     "output_type": "execute_result"
    }
   ],
   "source": [
    "# Indices of sorted array\n",
    "np.argsort(sorted_arr)"
   ]
  },
  {
   "cell_type": "code",
   "execution_count": 21,
   "metadata": {},
   "outputs": [
    {
     "data": {
      "text/plain": [
       "np.int64(52)"
      ]
     },
     "execution_count": 21,
     "metadata": {},
     "output_type": "execute_result"
    }
   ],
   "source": [
    "# 4th smallest element\n",
    "sorted_arr[3]"
   ]
  },
  {
   "cell_type": "code",
   "execution_count": 24,
   "metadata": {},
   "outputs": [
    {
     "data": {
      "text/plain": [
       "np.int64(16)"
      ]
     },
     "execution_count": 24,
     "metadata": {},
     "output_type": "execute_result"
    }
   ],
   "source": [
    "# 5th largest element\n",
    "sorted_arr[-5]"
   ]
  },
  {
   "cell_type": "markdown",
   "metadata": {},
   "source": [
    "#### (b) For the array: array = np.array([1.0, 1.2, 2.2, 2.0, 3.0, 2.0]), find (i). Integer elements only (ii). Float elements only"
   ]
  },
  {
   "cell_type": "code",
   "execution_count": 34,
   "metadata": {},
   "outputs": [],
   "source": [
    "array = np.array([1.0, 1.2, 2.2, 2.0, 3.0, 2.0])"
   ]
  },
  {
   "cell_type": "code",
   "execution_count": 42,
   "metadata": {},
   "outputs": [],
   "source": [
    "for i in array:\n",
    "    if type(array[0])==int:\n",
    "        print(i)"
   ]
  },
  {
   "cell_type": "code",
   "execution_count": 81,
   "metadata": {},
   "outputs": [],
   "source": [
    "# Integer elements\n",
    "if array.dtype==int:\n",
    "    print(array)"
   ]
  },
  {
   "cell_type": "code",
   "execution_count": 82,
   "metadata": {},
   "outputs": [
    {
     "name": "stdout",
     "output_type": "stream",
     "text": [
      "[1.  1.2 2.2 2.  3.  2. ]\n"
     ]
    }
   ],
   "source": [
    "# Float elements\n",
    "if array.dtype==float:\n",
    "    print(array)"
   ]
  },
  {
   "cell_type": "markdown",
   "metadata": {},
   "source": [
    "### Que 4"
   ]
  },
  {
   "cell_type": "markdown",
   "metadata": {},
   "source": [
    "#### (a) Write a function named img_to_array(path) that reads an image from a specified path and save it as text file on local machine? (Note: use separate cases for RGB and Grey Scale images)\n",
    "#### (b) Load the saved file into jupyter notebook? "
   ]
  },
  {
   "cell_type": "code",
   "execution_count": null,
   "metadata": {},
   "outputs": [],
   "source": [
    "from Pillow import Image\n",
    "import numpy as np\n",
    "\n",
    "def img_to_array(path):\n",
    "    \n",
    "    img = Image.open(path)\n",
    "    \n",
    "    if img.mode == 'L':  # Grayscale\n",
    "        img_array = np.array(img)\n",
    "        file_name = 'grayscale_image_array.txt'\n",
    "    elif img.mode == 'RGB':  # RGB\n",
    "        img_array = np.array(img)\n",
    "        file_name = 'rgb_image_array.txt'\n",
    "    else:\n",
    "        raise ValueError(\"Unsupported image mode: only 'L' (grayscale) and 'RGB' are supported\")\n",
    "    \n",
    "    if img.mode == 'L':\n",
    "        np.savetxt(file_name, img_array, fmt='%d')\n",
    "    else:\n",
    "        np.savetxt(file_name, img_array.reshape(-1, img_array.shape[2]), fmt='%d,%d,%d')\n",
    "    \n",
    "    print(f\"Image array saved as {file_name}\")\n",
    "\n",
    "img_to_array(r'C:\\Users\\hp\\OneDrive\\Documents\\Pictures\\hacker1.jpg')"
   ]
  }
 ],
 "metadata": {
  "kernelspec": {
   "display_name": "venv",
   "language": "python",
   "name": "python3"
  },
  "language_info": {
   "codemirror_mode": {
    "name": "ipython",
    "version": 3
   },
   "file_extension": ".py",
   "mimetype": "text/x-python",
   "name": "python",
   "nbconvert_exporter": "python",
   "pygments_lexer": "ipython3",
   "version": "3.12.4"
  }
 },
 "nbformat": 4,
 "nbformat_minor": 2
}
